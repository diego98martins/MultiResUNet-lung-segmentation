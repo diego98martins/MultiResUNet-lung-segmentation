{
 "cells": [
  {
   "cell_type": "code",
   "execution_count": 1,
   "metadata": {},
   "outputs": [],
   "source": [
    "import os\n",
    "from tqdm import tqdm\n",
    "import numpy as np\n",
    "import cv2\n",
    "import matplotlib.pyplot as plt\n",
    "\n",
    "\n",
    "from tensorflow.keras.models import model_from_json"
   ]
  },
  {
   "cell_type": "code",
   "execution_count": 2,
   "metadata": {},
   "outputs": [],
   "source": [
    "json_file = open('models/modelP.json', 'r')\n",
    "loaded_model_json = json_file.read()\n",
    "json_file.close()\n",
    "loaded_model = model_from_json(loaded_model_json)"
   ]
  },
  {
   "cell_type": "code",
   "execution_count": 3,
   "metadata": {},
   "outputs": [],
   "source": [
    "loaded_model.load_weights(\"models/modelW.h5\")"
   ]
  },
  {
   "cell_type": "code",
   "execution_count": 10,
   "metadata": {},
   "outputs": [
    {
     "name": "stderr",
     "output_type": "stream",
     "text": [
      "100%|██████████| 31/31 [00:00<00:00, 295.32it/s]"
     ]
    },
    {
     "name": "stdout",
     "output_type": "stream",
     "text": [
      "31\n"
     ]
    },
    {
     "name": "stderr",
     "output_type": "stream",
     "text": [
      "\n"
     ]
    }
   ],
   "source": [
    "img_files = next(os.walk('data/production'))[2]\n",
    "\n",
    "img_files.sort()\n",
    "\n",
    "print(len(img_files))\n",
    "\n",
    "X = []\n",
    "\n",
    "for img_fl in tqdm(img_files):                    \n",
    "        \n",
    "    img = cv2.imread('data/production/{}'.format(img_fl), cv2.IMREAD_GRAYSCALE)\n",
    "    resized_img = cv2.resize(img,(64, 64), interpolation = cv2.INTER_CUBIC)\n",
    "\n",
    "    X.append(resized_img)"
   ]
  },
  {
   "cell_type": "code",
   "execution_count": 11,
   "metadata": {},
   "outputs": [
    {
     "name": "stdout",
     "output_type": "stream",
     "text": [
      "31\n",
      "(31, 64, 64)\n"
     ]
    }
   ],
   "source": [
    "print(len(X))\n",
    "\n",
    "X_test = np.array(X)\n",
    "\n",
    "X_test = X_test / 255\n",
    "\n",
    "\n",
    "print(X_test.shape)\n"
   ]
  },
  {
   "cell_type": "code",
   "execution_count": 20,
   "metadata": {},
   "outputs": [],
   "source": [
    "\n",
    "yp = loaded_model.predict(x=X_test)\n",
    "\n",
    "yp = np.round(yp,0)\n",
    "\n",
    "\n",
    "for i in range(len(X_test)):\n",
    "    \n",
    "    plt.figure(figsize=(10,10))\n",
    "    plt.subplot(1,2,1)\n",
    "    plt.imshow(X_test[i])\n",
    "    plt.title('Input')\n",
    "    plt.subplot(1,2,2)\n",
    "    plt.imshow(yp[i].reshape(yp[i].shape[0],yp[i].shape[1]))\n",
    "    plt.title('Prediction')\n",
    "    plt.savefig('predictions/'+str(i)+'.png',format='png')\n",
    "    plt.close()"
   ]
  },
  {
   "cell_type": "code",
   "execution_count": null,
   "metadata": {},
   "outputs": [],
   "source": []
  }
 ],
 "metadata": {
  "kernelspec": {
   "display_name": "Python 3",
   "language": "python",
   "name": "python3"
  },
  "language_info": {
   "codemirror_mode": {
    "name": "ipython",
    "version": 3
   },
   "file_extension": ".py",
   "mimetype": "text/x-python",
   "name": "python",
   "nbconvert_exporter": "python",
   "pygments_lexer": "ipython3",
   "version": "3.8.2"
  }
 },
 "nbformat": 4,
 "nbformat_minor": 4
}
